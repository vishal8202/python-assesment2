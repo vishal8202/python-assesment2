{
 "cells": [
  {
   "cell_type": "markdown",
   "id": "9b42985c",
   "metadata": {},
   "source": [
    "# Exercise - 1 Calculate the multiplication and sum of two numbers"
   ]
  },
  {
   "cell_type": "markdown",
   "id": "831508ae",
   "metadata": {},
   "source": [
    "### Given two integer numbers return their product only if the product is equal to or lower than 1000 , else return their sum."
   ]
  },
  {
   "cell_type": "code",
   "execution_count": 3,
   "id": "63a016c5",
   "metadata": {},
   "outputs": [],
   "source": [
    "def sum1(num1 , num2):\n",
    "    mul = num1*num2\n",
    "    if (mul <= 1000):\n",
    "        print(\"The result is \",mul)\n",
    "        #return mul\n",
    "    else:\n",
    "        a = sum(num1,num2)\n",
    "        print(\"The result is \",a)\n",
    "        #return sum(num1,num2) "
   ]
  },
  {
   "cell_type": "code",
   "execution_count": 4,
   "id": "281509c2",
   "metadata": {},
   "outputs": [
    {
     "name": "stdout",
     "output_type": "stream",
     "text": [
      "The result is  600\n"
     ]
    }
   ],
   "source": [
    "sum1(20,30)"
   ]
  },
  {
   "cell_type": "markdown",
   "id": "4fa9bd77",
   "metadata": {},
   "source": [
    "# Exercise - 2 Check if the first and last number of list is same"
   ]
  },
  {
   "cell_type": "markdown",
   "id": "5a2a8363",
   "metadata": {},
   "source": [
    "### Write a function to return True if the first and last number of a given list is same.If number are different then return False."
   ]
  },
  {
   "cell_type": "code",
   "execution_count": 11,
   "id": "4f0cf2f1",
   "metadata": {},
   "outputs": [
    {
     "name": "stdout",
     "output_type": "stream",
     "text": [
      "Given list:  [10, 20, 30, 40, 10]\n",
      "Result is  True\n",
      "Given list:  [75, 65, 35, 75, 30]\n",
      "Result is  False\n"
     ]
    }
   ],
   "source": [
    "number_x = [10,20,30,40,10]\n",
    "number_y = [75,65,35,75,30]\n",
    "if(number_x[0] == number_x[-1]):\n",
    "    print(\"Given list: \",number_x)\n",
    "    print(\"Result is \" ,True)\n",
    "else:\n",
    "    print(\"Given list: \",number_x)\n",
    "    print(\"Result is \" , False)\n",
    "    \n",
    "if(number_y[0] == number_y[-1]):\n",
    "    print(\"Given list: \",number_y)\n",
    "    print(\"Result is \" , True)\n",
    "else:\n",
    "    print(\"Given list: \",number_y)\n",
    "    print(\"Result is \", False)   "
   ]
  },
  {
   "cell_type": "markdown",
   "id": "57861948",
   "metadata": {},
   "source": [
    "# Exercise 3: Display numbers divisible by 5 from a list"
   ]
  },
  {
   "cell_type": "markdown",
   "id": "b72c5469",
   "metadata": {},
   "source": [
    "### Iterate the given list of numbers and print only those numbers which are divisible by 5"
   ]
  },
  {
   "cell_type": "code",
   "execution_count": 17,
   "id": "3594dcd7",
   "metadata": {},
   "outputs": [],
   "source": [
    "def list_1(lis):\n",
    "    print(\"Given list is \", lis)\n",
    "    print(\"Divisible by 5\")\n",
    "    for i in lis:\n",
    "        if(i % 5 == 0):\n",
    "            print(i)\n",
    "           \n",
    "            "
   ]
  },
  {
   "cell_type": "code",
   "execution_count": 18,
   "id": "a7dbe2cb",
   "metadata": {},
   "outputs": [
    {
     "name": "stdout",
     "output_type": "stream",
     "text": [
      "Given list is  [10, 20, 33, 46, 55]\n",
      "Divisible by 5\n",
      "10\n",
      "20\n",
      "55\n"
     ]
    }
   ],
   "source": [
    "list_1([10,20,33,46,55])"
   ]
  },
  {
   "cell_type": "markdown",
   "id": "6a3478d1",
   "metadata": {},
   "source": [
    "# Exercise 4:"
   ]
  },
  {
   "cell_type": "markdown",
   "id": "a389273e",
   "metadata": {},
   "source": [
    "### Write a program to find how many times substring \"Emma\" appears in the given string"
   ]
  },
  {
   "cell_type": "code",
   "execution_count": 19,
   "id": "9cac8245",
   "metadata": {},
   "outputs": [
    {
     "name": "stdout",
     "output_type": "stream",
     "text": [
      "Emma appeared  2 times\n"
     ]
    }
   ],
   "source": [
    "str_x = \"Emma is good developer . Emma is writer \"\n",
    "c = str_x.count(\"Emma\")\n",
    "print(\"Emma appeared \",c ,\"times\")"
   ]
  },
  {
   "cell_type": "markdown",
   "id": "a72b2211",
   "metadata": {},
   "source": [
    "# Exercise 5:Print the following pattern"
   ]
  },
  {
   "cell_type": "code",
   "execution_count": 21,
   "id": "0c711c21",
   "metadata": {},
   "outputs": [
    {
     "name": "stdout",
     "output_type": "stream",
     "text": [
      "1 \n",
      "2 2 \n",
      "3 3 3 \n",
      "4 4 4 4 \n",
      "5 5 5 5 5 \n"
     ]
    }
   ],
   "source": [
    "for i in range(1,6):\n",
    "    for j in range(i):\n",
    "        print(i,end=\" \")\n",
    "    print()"
   ]
  },
  {
   "cell_type": "markdown",
   "id": "95988e33",
   "metadata": {},
   "source": [
    "# Exercise 6:"
   ]
  },
  {
   "cell_type": "markdown",
   "id": "529c3e16",
   "metadata": {},
   "source": [
    "### Create a new list from a two list using the following condition.\n",
    "### Given a two list of numbers,write a program to create a new list such that the new list should contain odd numbers from the first list and even number from the second list"
   ]
  },
  {
   "cell_type": "code",
   "execution_count": 24,
   "id": "e8d406a4",
   "metadata": {},
   "outputs": [],
   "source": [
    "def ne_lis(lst1,lst2):\n",
    "    l = []\n",
    "    for i in lst1:\n",
    "        if(i % 2 != 0):\n",
    "            l.append(i)\n",
    "    for i in lst2:\n",
    "        if(i % 2 == 0):\n",
    "            l.append(i)\n",
    "            \n",
    "    print(\"Result list : \",l)"
   ]
  },
  {
   "cell_type": "code",
   "execution_count": 25,
   "id": "83b670aa",
   "metadata": {},
   "outputs": [
    {
     "name": "stdout",
     "output_type": "stream",
     "text": [
      "Result list :  [25, 35, 40, 60, 90]\n"
     ]
    }
   ],
   "source": [
    "ne_lis([10,20,25,30,35],[40,45,60,75,90])"
   ]
  },
  {
   "cell_type": "code",
   "execution_count": null,
   "id": "072b6e4d",
   "metadata": {},
   "outputs": [],
   "source": []
  }
 ],
 "metadata": {
  "kernelspec": {
   "display_name": "Python 3 (ipykernel)",
   "language": "python",
   "name": "python3"
  },
  "language_info": {
   "codemirror_mode": {
    "name": "ipython",
    "version": 3
   },
   "file_extension": ".py",
   "mimetype": "text/x-python",
   "name": "python",
   "nbconvert_exporter": "python",
   "pygments_lexer": "ipython3",
   "version": "3.9.12"
  }
 },
 "nbformat": 4,
 "nbformat_minor": 5
}
